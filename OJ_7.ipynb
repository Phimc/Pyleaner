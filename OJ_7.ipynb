{
 "metadata": {
  "language_info": {
   "codemirror_mode": {
    "name": "ipython",
    "version": 3
   },
   "file_extension": ".py",
   "mimetype": "text/x-python",
   "name": "python",
   "nbconvert_exporter": "python",
   "pygments_lexer": "ipython3",
   "version": "3.7.8"
  },
  "orig_nbformat": 2,
  "kernelspec": {
   "name": "python378jvsc74a57bd05f2c28d282b658d582d87db0cb0df5011f7167d669b08d2ad53b5151937374d2",
   "display_name": "Python 3.7.8 64-bit"
  },
  "metadata": {
   "interpreter": {
    "hash": "5f2c28d282b658d582d87db0cb0df5011f7167d669b08d2ad53b5151937374d2"
   }
  }
 },
 "nbformat": 4,
 "nbformat_minor": 2,
 "cells": [
  {
   "cell_type": "code",
   "execution_count": null,
   "metadata": {},
   "outputs": [],
   "source": [
    "\n",
    "n = int(input())\n",
    "k = list(map(int,input().split()))\n",
    "k.sort()\n",
    "d = 1000\n",
    "for i in range(n-1):\n",
    "    if k[i+1]-k[i] < d:\n",
    "        d = k[i+1]-k[i]\n",
    "print(d)"
   ]
  },
  {
   "cell_type": "code",
   "execution_count": null,
   "metadata": {},
   "outputs": [],
   "source": [
    "n,k = map(int,input().split())\n",
    "h = list(map(int,input().split()))\n",
    "n,k = map(int,input().split())\n",
    "h = list(map(int,input().split()))\n",
    "for i in range(n-1,0,-1):\n",
    "    if k > 0:\n",
    "        if k >= h[i]:\n",
    "            k -= h[i]\n",
    "            h[0] += h[i]\n",
    "            h[i] = 0\n",
    "        else:\n",
    "            h[0]+=k\n",
    "            h[i]-=k\n",
    "            break\n",
    "    else:\n",
    "        break\n",
    "h = list(map(str,h))\n",
    "print(' '.join(h))"
   ]
  },
  {
   "cell_type": "code",
   "execution_count": 1,
   "metadata": {},
   "outputs": [
    {
     "output_type": "error",
     "ename": "ValueError",
     "evalue": "invalid literal for int() with base 10: ''",
     "traceback": [
      "\u001b[1;31m---------------------------------------------------------------------------\u001b[0m",
      "\u001b[1;31mValueError\u001b[0m                                Traceback (most recent call last)",
      "\u001b[1;32m<ipython-input-1-14592fd254b6>\u001b[0m in \u001b[0;36m<module>\u001b[1;34m\u001b[0m\n\u001b[1;32m----> 1\u001b[1;33m \u001b[0mn\u001b[0m \u001b[1;33m=\u001b[0m \u001b[0mint\u001b[0m\u001b[1;33m(\u001b[0m\u001b[0minput\u001b[0m\u001b[1;33m(\u001b[0m\u001b[1;33m)\u001b[0m\u001b[1;33m)\u001b[0m\u001b[1;33m\u001b[0m\u001b[1;33m\u001b[0m\u001b[0m\n\u001b[0m\u001b[0;32m      2\u001b[0m \u001b[0mx\u001b[0m\u001b[1;33m=\u001b[0m\u001b[1;33m[\u001b[0m\u001b[1;33m]\u001b[0m\u001b[1;33m\u001b[0m\u001b[1;33m\u001b[0m\u001b[0m\n\u001b[0;32m      3\u001b[0m \u001b[1;32mfor\u001b[0m \u001b[0mi\u001b[0m \u001b[1;32min\u001b[0m \u001b[0mrange\u001b[0m\u001b[1;33m(\u001b[0m\u001b[0mn\u001b[0m\u001b[1;33m)\u001b[0m\u001b[1;33m:\u001b[0m\u001b[1;33m\u001b[0m\u001b[1;33m\u001b[0m\u001b[0m\n\u001b[0;32m      4\u001b[0m     \u001b[0mx\u001b[0m\u001b[1;33m.\u001b[0m\u001b[0mappend\u001b[0m\u001b[1;33m(\u001b[0m\u001b[0mint\u001b[0m\u001b[1;33m(\u001b[0m\u001b[0minput\u001b[0m\u001b[1;33m(\u001b[0m\u001b[1;33m)\u001b[0m\u001b[1;33m)\u001b[0m\u001b[1;33m)\u001b[0m\u001b[1;33m\u001b[0m\u001b[1;33m\u001b[0m\u001b[0m\n\u001b[0;32m      5\u001b[0m \u001b[0maver\u001b[0m \u001b[1;33m=\u001b[0m \u001b[0mint\u001b[0m\u001b[1;33m(\u001b[0m\u001b[0msum\u001b[0m\u001b[1;33m(\u001b[0m\u001b[0mx\u001b[0m\u001b[1;33m)\u001b[0m\u001b[1;33m/\u001b[0m\u001b[0mn\u001b[0m\u001b[1;33m)\u001b[0m\u001b[1;33m\u001b[0m\u001b[1;33m\u001b[0m\u001b[0m\n",
      "\u001b[1;31mValueError\u001b[0m: invalid literal for int() with base 10: ''"
     ]
    }
   ],
   "source": [
    "n = int(input())\n",
    "x=[]\n",
    "for i in range(n):\n",
    "    x.append(int(input()))\n",
    "aver = int(sum(x)/n)\n",
    "times = 0\n",
    "for i in range(n-1):\n",
    "    if x[i] < aver:\n",
    "        x[i+1]-=(aver-x[i])\n",
    "        times +=(aver-x[i])\n",
    "    elif x[i] > aver:\n",
    "        x[i+1]+=(x[i]-aver)\n",
    "        times +=(x[i]-aver)\n",
    "print(times)"
   ]
  },
  {
   "cell_type": "code",
   "execution_count": null,
   "metadata": {},
   "outputs": [],
   "source": [
    "A,B = map(int,input().split())\n",
    "N = int(input())\n",
    "message = []\n",
    "for i in range(N):\n",
    "    message.append(list(map(int,input().split())))\n",
    "'message=[x,y,achieve]'\n",
    "'achieve[i][A][B] = value'\n",
    "achieve = [[[0 for i in range(B+1)]for j in range(A+1)]]\n",
    "for i in range(N):\n",
    "    a = [[0 for i in range(B+1)]for j in range(A+1)]\n",
    "    achieve.append(a)\n",
    "def achi(i,x,y):\n",
    "    if i*x*y == 0:\n",
    "        return 0\n",
    "    elif message[i-1][0]<=x and message[i-1][1]<=y:\n",
    "        achieve[i][x][y] = max(achi(i-1,x,y),achi(i-1,x-message[i-1][0],y-message[i-1][1])+message[i-1][2])\n",
    "    else:\n",
    "        achieve[i][x][y] = achi(i-1,x,y)\n",
    "    return achieve[i][x][y]\n",
    "print(achi(N,A,B))"
   ]
  }
 ]
}