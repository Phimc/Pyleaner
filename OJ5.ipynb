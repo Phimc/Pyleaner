{
 "metadata": {
  "language_info": {
   "codemirror_mode": {
    "name": "ipython",
    "version": 3
   },
   "file_extension": ".py",
   "mimetype": "text/x-python",
   "name": "python",
   "nbconvert_exporter": "python",
   "pygments_lexer": "ipython3",
   "version": "3.8.5"
  },
  "orig_nbformat": 2,
  "kernelspec": {
   "name": "python385jvsc74a57bd0ecf8365e566e602351b8b76d9653f2fdf3ebe35a0fa3d8c01cb9ca31af7f5386",
   "display_name": "Python 3.8.5 32-bit"
  },
  "metadata": {
   "interpreter": {
    "hash": "ecf8365e566e602351b8b76d9653f2fdf3ebe35a0fa3d8c01cb9ca31af7f5386"
   }
  }
 },
 "nbformat": 4,
 "nbformat_minor": 2,
 "cells": [
  {
   "source": [
    "# 1"
   ],
   "cell_type": "markdown",
   "metadata": {}
  },
  {
   "cell_type": "code",
   "execution_count": null,
   "metadata": {},
   "outputs": [],
   "source": [
    "combin = list(input())\n",
    "di = {'C':0,'H':0,'N':0,'P':0}\n",
    "dikey = ['C','H','N','P']\n",
    "for i in range(len(combin)):\n",
    "    if str(combin[i]).isalpha:\n",
    "        num = []\n",
    "        for j in range(i+1,len(combin)):\n",
    "            if combin[j].isalpha():\n",
    "                break\n",
    "            else:\n",
    "                num.append(combin[j])\n",
    "        n = int(''.join(num))\n",
    "        if combin[i] in dikey:\n",
    "            di[combin[i]] = n\n",
    "\n",
    "x = di['C']\n",
    "y = di['H']\n",
    "k = di['N']\n",
    "m = di['P']\n",
    "print(1+x-(y-k-m)/2)\n"
   ]
  },
  {
   "source": [
    "# 2"
   ],
   "cell_type": "markdown",
   "metadata": {}
  },
  {
   "cell_type": "code",
   "execution_count": null,
   "metadata": {},
   "outputs": [],
   "source": [
    "M = int(input())\n",
    "essay = input().split()\n",
    "memo = []\n",
    "searchtime = 0\n",
    "le = 0\n",
    "dot = [\".\",\"-\",\"?\",\"!\",\"'\",\",\" ]\n",
    "for word in essay:\n",
    "    word = word.strip(\".-?!',\").lower()\n",
    "    if word != '':\n",
    "        if word in memo:\n",
    "            le += 1\n",
    "            continue\n",
    "        elif len(memo) <= M-1:\n",
    "            memo.append(word)\n",
    "            searchtime += 1\n",
    "            le += 1\n",
    "        else:\n",
    "            memo.pop(0)\n",
    "            memo.append(word)\n",
    "            searchtime += 1\n",
    "            le += 1\n",
    "print(le)\n",
    "print(searchtime)"
   ]
  },
  {
   "source": [
    "# 3"
   ],
   "cell_type": "markdown",
   "metadata": {}
  },
  {
   "cell_type": "code",
   "execution_count": null,
   "metadata": {},
   "outputs": [],
   "source": [
    "n = int(input())\n",
    "mess = {}\n",
    "messages = []\n",
    "t = 0\n",
    "an = 0\n",
    "for i in range(n):\n",
    "    s = input().split()\n",
    "    mess[int(s[0])] = s[1]\n",
    "while True:\n",
    "    t += 1\n",
    "    try:\n",
    "        messages.append(mess[t])\n",
    "    except:\n",
    "        if messages != []:\n",
    "            print(t,messages.pop())\n",
    "            an += 1\n",
    "        else:\n",
    "            continue\n",
    "    if an == n:\n",
    "        break"
   ]
  },
  {
   "source": [
    "# 4"
   ],
   "cell_type": "markdown",
   "metadata": {}
  },
  {
   "cell_type": "code",
   "execution_count": null,
   "metadata": {},
   "outputs": [],
   "source": [
    "que = []\n",
    "ala = []\n",
    "s = list(map(int,input().split()))\n",
    "n = s[0]\n",
    "m = s[1]\n",
    "p = s[2]\n",
    "use = list(map(int,input().split()))\n",
    "for i in use:\n",
    "    if i in que:\n",
    "        que.remove(i)\n",
    "        que.append(i)\n",
    "    else:\n",
    "        if len(que) < n:\n",
    "            que.append(i)\n",
    "        else:\n",
    "            ala.append(que.pop(0))\n",
    "            que.append(i)\n",
    "pop = list(map(str,ala))\n",
    "print(' '.join(pop))"
   ]
  },
  {
   "source": [
    "# 5"
   ],
   "cell_type": "markdown",
   "metadata": {}
  },
  {
   "cell_type": "code",
   "execution_count": null,
   "metadata": {},
   "outputs": [],
   "source": [
    "class WM:\n",
    "    def __init__(self,n):\n",
    "        \"\"\"index:{序号：名称}\n",
    "        rule: {名称：序号}\n",
    "        stack：容器\n",
    "        v：容器容量\"\"\"\n",
    "        self.index = {0:\"grape\", 1:\"cherry\", 2:\"orange\", 3:\"lemon\", 4:\"kiwifruit\", 5:\"tomato\", 6:\"peach\",7: \"pineapple\", 8:\"coconut\",9: \"watermelon\", 10:\"WATERMELON\"}\n",
    "        self.rule = {\"grape\":0, \"cherry\":1, \"orange\":2, \"lemon\":3, \"kiwifruit\":4, \"tomato\":5, \"peach\":6, \"pineapple\":7, \"coconut\":8, \"watermelon\":9, \"WATERMELON\":10}\n",
    "        self.stack = []\n",
    "        self.v = n\n",
    "    \n",
    "    def not_FULL(self):\n",
    "        \"\"\"容量是否没满\"\"\"\n",
    "        if self.stack == []:\n",
    "            return True\n",
    "        elif len(self.stack) < self.v :\n",
    "            return True\n",
    "        else:\n",
    "            return False\n",
    "    def add(self,A,B):\n",
    "        \"\"\"合成A,B:能合成则返回合成后的水果，如果不能则将A置于容器并且返回B\"\"\"\n",
    "        if self.rule[A]==self.rule[B]:\n",
    "            return self.index[self.rule[A]+1]\n",
    "        else:\n",
    "            self.stack.append(A)\n",
    "            return B\n",
    "            \n",
    "    def throw(self,fruit):\n",
    "        \"\"\"将fruit置于容器\"\"\"\n",
    "        if self.not_FULL():\n",
    "            if self.stack != []:\n",
    "                last_fruit = self.stack.pop()\n",
    "                fi = self.add(last_fruit,fruit)\n",
    "                if fi != fruit:\n",
    "                    self.throw(fi)\n",
    "                else:\n",
    "                    self.stack.append(fi)\n",
    "            else:\n",
    "                self.stack.append(fruit)\n",
    "        else:\n",
    "            last_fruit = self.stack.pop()\n",
    "            fi = self.add(last_fruit,fruit)\n",
    "            if fi == fruit:\n",
    "                raise Exception\n",
    "            else:\n",
    "                self.stack.append(fi)\n",
    "                self.throw(self.stack.pop())\n",
    "    \n",
    "    def checkwin(self):\n",
    "        if 'WATERMELON' in self.stack:\n",
    "            return 'WIN'\n",
    "        else:\n",
    "            return 'NO'\n",
    "    \n",
    "    def printa(self):\n",
    "        print(' '.join(self.stack))\n",
    "\n",
    "N,M = map(int,input().split())\n",
    "WM_0 = WM(N)\n",
    "fruits = []\n",
    "flag = 1\n",
    "for i in range(M):\n",
    "    fruits.append(input())\n",
    "if N!= 0:\n",
    "    if M != 0:\n",
    "        for fruit in fruits:\n",
    "            try:    \n",
    "                WM_0.throw(fruit)\n",
    "                if WM_0.checkwin() == 'WIN':\n",
    "                    print('You win!')\n",
    "                    break\n",
    "                elif WM_0.checkwin() == 'NO':\n",
    "                    continue\n",
    "            except:\n",
    "                print('You lose!')\n",
    "                flag = 0\n",
    "                break\n",
    "        if flag:\n",
    "            if WM_0.checkwin() != 'WIN':\n",
    "                print('You lose!')\n",
    "        WM_0.printa()\n",
    "    else:\n",
    "        print('You lose!')\n",
    "        print('')\n",
    "else:\n",
    "    print('You lose!')\n",
    "    print('')"
   ]
  },
  {
   "cell_type": "code",
   "execution_count": 1,
   "metadata": {},
   "outputs": [
    {
     "output_type": "stream",
     "name": "stdout",
     "text": [
      "love is love\n"
     ]
    }
   ],
   "source": [
    "s = \"'love is love',\"\n",
    "s = s.strip(\",'.\")\n",
    "print(s)"
   ]
  },
  {
   "cell_type": "code",
   "execution_count": null,
   "metadata": {},
   "outputs": [],
   "source": []
  }
 ]
}