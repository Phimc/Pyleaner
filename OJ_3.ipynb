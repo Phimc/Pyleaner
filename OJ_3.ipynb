{
 "metadata": {
  "language_info": {
   "codemirror_mode": {
    "name": "ipython",
    "version": 3
   },
   "file_extension": ".py",
   "mimetype": "text/x-python",
   "name": "python",
   "nbconvert_exporter": "python",
   "pygments_lexer": "ipython3",
   "version": "3.8.5-final"
  },
  "orig_nbformat": 2,
  "kernelspec": {
   "name": "python385jvsc74a57bd0ecf8365e566e602351b8b76d9653f2fdf3ebe35a0fa3d8c01cb9ca31af7f5386",
   "display_name": "Python 3.8.5 32-bit"
  },
  "metadata": {
   "interpreter": {
    "hash": "ecf8365e566e602351b8b76d9653f2fdf3ebe35a0fa3d8c01cb9ca31af7f5386"
   }
  }
 },
 "nbformat": 4,
 "nbformat_minor": 2,
 "cells": [
  {
   "source": [
    "#第三次上机#\n"
   ],
   "cell_type": "markdown",
   "metadata": {}
  },
  {
   "cell_type": "code",
   "execution_count": 2,
   "metadata": {},
   "outputs": [
    {
     "output_type": "error",
     "ename": "ValueError",
     "evalue": "invalid literal for int() with base 10: ''",
     "traceback": [
      "\u001b[1;31m---------------------------------------------------------------------------\u001b[0m",
      "\u001b[1;31mValueError\u001b[0m                                Traceback (most recent call last)",
      "\u001b[1;32m<ipython-input-2-3216c2510414>\u001b[0m in \u001b[0;36m<module>\u001b[1;34m\u001b[0m\n\u001b[1;32m----> 1\u001b[1;33m \u001b[0mN\u001b[0m \u001b[1;33m=\u001b[0m \u001b[0mint\u001b[0m\u001b[1;33m(\u001b[0m\u001b[0minput\u001b[0m\u001b[1;33m(\u001b[0m\u001b[1;33m)\u001b[0m\u001b[1;33m)\u001b[0m\u001b[1;33m\u001b[0m\u001b[1;33m\u001b[0m\u001b[0m\n\u001b[0m\u001b[0;32m      2\u001b[0m \u001b[0mscore\u001b[0m \u001b[1;33m=\u001b[0m \u001b[1;33m[\u001b[0m\u001b[1;33m]\u001b[0m\u001b[1;33m\u001b[0m\u001b[1;33m\u001b[0m\u001b[0m\n\u001b[0;32m      3\u001b[0m \u001b[0mcredit\u001b[0m \u001b[1;33m=\u001b[0m \u001b[1;33m[\u001b[0m\u001b[1;33m]\u001b[0m\u001b[1;33m\u001b[0m\u001b[1;33m\u001b[0m\u001b[0m\n\u001b[0;32m      4\u001b[0m \u001b[1;32mfor\u001b[0m \u001b[0mi\u001b[0m \u001b[1;32min\u001b[0m \u001b[0mrange\u001b[0m\u001b[1;33m(\u001b[0m\u001b[0mN\u001b[0m\u001b[1;33m)\u001b[0m\u001b[1;33m:\u001b[0m\u001b[1;33m\u001b[0m\u001b[1;33m\u001b[0m\u001b[0m\n\u001b[0;32m      5\u001b[0m     \u001b[0mtextin\u001b[0m \u001b[1;33m=\u001b[0m \u001b[0mlist\u001b[0m\u001b[1;33m(\u001b[0m\u001b[0mmap\u001b[0m\u001b[1;33m(\u001b[0m\u001b[0mfloat\u001b[0m\u001b[1;33m,\u001b[0m\u001b[0minput\u001b[0m\u001b[1;33m(\u001b[0m\u001b[1;33m)\u001b[0m\u001b[1;33m.\u001b[0m\u001b[0msplit\u001b[0m\u001b[1;33m(\u001b[0m\u001b[1;33m)\u001b[0m\u001b[1;33m)\u001b[0m\u001b[1;33m)\u001b[0m\u001b[1;33m\u001b[0m\u001b[1;33m\u001b[0m\u001b[0m\n",
      "\u001b[1;31mValueError\u001b[0m: invalid literal for int() with base 10: ''"
     ]
    }
   ],
   "source": [
    "N = int(input())\n",
    "score = []\n",
    "credit = []\n",
    "for i in range(N):\n",
    "    textin = list(map(float,input().split()))\n",
    "    score.append(textin[0])\n",
    "    credit.append(textin[1])\n",
    "def GPA(score):\n",
    "    if score < 60:\n",
    "        return 0\n",
    "    elif score == 60:\n",
    "        return 1\n",
    "    else:\n",
    "        return 4-(3*((100-score)**2))/1600\n",
    "for i in range(N):\n",
    "    score[i] = GPA(score[i])\n",
    "sumGPA = 0\n",
    "for i in range(N):\n",
    "    sumGPA += score[i]*credit[i]\n",
    "print('%.2f'%(sumGPA/sum(credit)))"
   ]
  },
  {
   "cell_type": "code",
   "execution_count": null,
   "metadata": {},
   "outputs": [],
   "source": [
    "def sum_exp(level):\n",
    "    return int(1.25*level**3-0.024*level**2+0.26*level-1)\n",
    "level_exp = []\n",
    "for i in range(1,21):\n",
    "    level_exp.append(sum_exp(i))\n",
    "y = int(input())\n",
    "if y >= level_exp[19]:\n",
    "    print('Gyarados!')\n",
    "else:\n",
    "    for i in range(20):\n",
    "        if y>=level_exp[i] and y < level_exp[i+1]:\n",
    "            print(i+1)\n",
    "            break"
   ]
  },
  {
   "cell_type": "code",
   "execution_count": 4,
   "metadata": {},
   "outputs": [
    {
     "output_type": "stream",
     "name": "stdout",
     "text": [
      "['1', '5', '0']\n"
     ]
    }
   ],
   "source": [
    "n = list(input())\n",
    "step = 0\n",
    "n_str = list(map(str,n))\n",
    "N = int(''.join(n_str))\n",
    "while True:\n",
    "    step += 1\n",
    "    N = -2*int(n_str.pop())+int(''.join(n_str))\n",
    "    if N < 100:\n",
    "        if N % 7 == 0:\n",
    "            print(N,step)\n",
    "            print('Yes')\n",
    "            break\n",
    "        else:\n",
    "            print(N,step)\n",
    "            print('No')\n",
    "            break\n",
    "    else:\n",
    "        n_str = list(str(N))"
   ]
  },
  {
   "cell_type": "code",
   "execution_count": null,
   "metadata": {},
   "outputs": [],
   "source": [
    "M,N,T = map(int,input().split())\n",
    "P = [0 for i in range(M)]\n",
    "shout = 1\n",
    "for i in range(T):\n",
    "    for q in range(M):\n",
    "        if shout % N == 0 or N in list(map(int,str(shout))):\n",
    "            P[q] += 1\n",
    "        shout += 1\n",
    "nc = []\n",
    "if 0 in P:\n",
    "    for i in range(M):\n",
    "        if P[i] == 0:\n",
    "            nc.append(str(i+1))\n",
    "    print(' '.join(nc))\n",
    "else:\n",
    "    print('NO')"
   ]
  },
  {
   "cell_type": "code",
   "execution_count": null,
   "metadata": {},
   "outputs": [],
   "source": [
    "n = int(input())\n",
    "S = (1+n**2)*n/2\n",
    "A = []\n",
    "line = []\n",
    "lie = []\n",
    "for i in range(n):\n",
    "    A.append(list(map(int,input().split())))\n",
    "    if sum(A[i]) != S:\n",
    "        line.append(i)\n",
    "total = 0\n",
    "for i in range(n):\n",
    "    for j in range(n):\n",
    "        total += A[j][i]\n",
    "    if total != S:\n",
    "        lie.append(i)\n",
    "    total = 0\n",
    "\n",
    "A[line[0]][lie[0]],A[line[1]][lie[1]] = A[line[1]][lie[1]],A[line[0]][lie[0]]\n",
    "if sum(A[line[0]]) != S:\n",
    "    print(line[0]+1,lie[1]+1)\n",
    "    print(line[1]+1,lie[0]+1)\n",
    "else:\n",
    "    print(line[0]+1,lie[0]+1)\n",
    "    print(line[1]+1,lie[1]+1)\n",
    "    "
   ]
  },
  {
   "cell_type": "code",
   "execution_count": null,
   "metadata": {},
   "outputs": [],
   "source": []
  }
 ]
}