{
 "metadata": {
  "language_info": {
   "codemirror_mode": {
    "name": "ipython",
    "version": 3
   },
   "file_extension": ".py",
   "mimetype": "text/x-python",
   "name": "python",
   "nbconvert_exporter": "python",
   "pygments_lexer": "ipython3",
   "version": "3.8.5-final"
  },
  "orig_nbformat": 2,
  "kernelspec": {
   "name": "python385jvsc74a57bd0ecf8365e566e602351b8b76d9653f2fdf3ebe35a0fa3d8c01cb9ca31af7f5386",
   "display_name": "Python 3.8.5 32-bit"
  },
  "metadata": {
   "interpreter": {
    "hash": "ecf8365e566e602351b8b76d9653f2fdf3ebe35a0fa3d8c01cb9ca31af7f5386"
   }
  }
 },
 "nbformat": 4,
 "nbformat_minor": 2,
 "cells": [
  {
   "source": [
    "# 1"
   ],
   "cell_type": "markdown",
   "metadata": {}
  },
  {
   "cell_type": "code",
   "execution_count": null,
   "metadata": {},
   "outputs": [],
   "source": [
    "x = input()\n",
    "alpha = 0\n",
    "digit = 0\n",
    "\n",
    "for i in range(len(x)):\n",
    "    if x[i].isalpha():\n",
    "        alpha += 1\n",
    "    if x[i].isdigit():\n",
    "        digit += 1\n",
    "\n",
    "print(digit)\n",
    "print(alpha)"
   ]
  },
  {
   "source": [
    "# 2"
   ],
   "cell_type": "markdown",
   "metadata": {}
  },
  {
   "cell_type": "code",
   "execution_count": null,
   "metadata": {},
   "outputs": [],
   "source": [
    "def color(ten):\n",
    "    if ten > 255:\n",
    "        ten = 255\n",
    "    if ten < 0:\n",
    "        ten = 0\n",
    "    y = str(hex(ten))[2:]\n",
    "    if ten < 10:\n",
    "        return '%02d'%int(y)\n",
    "    elif ten < 16:\n",
    "        return '0%s'%y.upper()\n",
    "    else:\n",
    "         return y.upper()\n",
    "\n",
    "ten = list(map(int,input().split()))\n",
    "print('#',end='')\n",
    "for t in ten:\n",
    "    print(color(t),end='')"
   ]
  },
  {
   "source": [
    "# 3"
   ],
   "cell_type": "markdown",
   "metadata": {}
  },
  {
   "cell_type": "code",
   "execution_count": null,
   "metadata": {},
   "outputs": [],
   "source": [
    "def memo(sublist):\n",
    "    for i in range(len(sublist)):\n",
    "        sublist[i] = str(sublist[i][0:2])+'%d'%len(sublist[i])\n",
    "\n",
    "def identify(word,sublist):\n",
    "    word = str(word[0:2]+'%d'%len(word))\n",
    "    return word in sublist\n",
    "\n",
    "answer = []\n",
    "sublist = input().split()\n",
    "memo(sublist)\n",
    "n = int(input())\n",
    "for i in range(n):\n",
    "    word = input()\n",
    "    if identify(word,sublist):\n",
    "        answer.append('Y')\n",
    "    else:\n",
    "        answer.append('N')\n",
    "print(' '.join(answer))"
   ]
  },
  {
   "source": [
    "# 4"
   ],
   "cell_type": "markdown",
   "metadata": {}
  },
  {
   "cell_type": "code",
   "execution_count": 6,
   "metadata": {},
   "outputs": [
    {
     "output_type": "stream",
     "name": "stdout",
     "text": [
      "['1']\n"
     ]
    }
   ],
   "source": [
    "n = int(input())\n",
    "l = 2**n\n",
    "password_dict = {}\n",
    "for i in range(l):\n",
    "    password_dict[bin(i)[2:].rjust(n,'0')] = input()\n",
    "secret = input()\n",
    "s = []\n",
    "a = []\n",
    "if len(secret)%n == 0:\n",
    "    try:\n",
    "        for i in range(len(secret)//n):\n",
    "            s.append(str(secret[n*i:n*i+n]))\n",
    "        for i in range(len(s)):\n",
    "            a.append(password_dict[s[i]])\n",
    "        print(' '.join(a))\n",
    "    except:\n",
    "        print('Error, please check your input.')\n",
    "else:\n",
    "    print('Error, please check your input.')\n"
   ]
  },
  {
   "source": [
    "# 5"
   ],
   "cell_type": "markdown",
   "metadata": {}
  },
  {
   "cell_type": "code",
   "execution_count": null,
   "metadata": {},
   "outputs": [],
   "source": [
    "atall = []\n",
    "atnyima = []\n",
    "while True:\n",
    "    a = input()\n",
    "    if '@all'in a:\n",
    "        atall.append(a)\n",
    "    elif '@nyima' in a:\n",
    "        atnyima.append(a)\n",
    "    elif a == 'no new messages':\n",
    "        break\n",
    "    else:\n",
    "        continue\n",
    "atall.sort()\n",
    "atnyima.sort(reverse=True)\n",
    "if  atall != []:   \n",
    "    print('\\n'.join(atall))\n",
    "if atnyima != []:\n",
    "    print('\\n'.join(atnyima))"
   ]
  },
  {
   "source": [
    "# 6"
   ],
   "cell_type": "markdown",
   "metadata": {}
  },
  {
   "cell_type": "code",
   "execution_count": 1,
   "metadata": {},
   "outputs": [
    {
     "output_type": "stream",
     "name": "stdout",
     "text": [
      "['1', '2', '3', '4']\n"
     ]
    }
   ],
   "source": [
    "# 字典{\"命题名\":\"命题值(1/-1)\"}\n",
    "values = {'v':'or','-':'not'}\n",
    "n = int(input())\n",
    "# 输入命题值与名\n",
    "for i in range(n):\n",
    "    varity = input().split()\n",
    "    if varity[1]=='1':\n",
    "        values[varity[0]] = 'True'\n",
    "    else:\n",
    "        values[varity[0]] = 'False'  \n",
    "question = list(input())\n",
    "# 字典的所有键\n",
    "key = values.keys()\n",
    "# 将命题名替换为值\n",
    "for i in range(len(question)):\n",
    "    if question[i] in key:\n",
    "        question[i] = values[question[i]]\n",
    "if eval(' '.join(question)):\n",
    "    print(1)\n",
    "else:\n",
    "    print(-1)"
   ]
  },
  {
   "cell_type": "code",
   "execution_count": null,
   "metadata": {},
   "outputs": [],
   "source": [
    "class Stack():\n",
    "    ''' 定义 stack 类 '''\n",
    "    def __init__(self):\n",
    "        self.items = [] #初始化空栈，栈使用列表表示\n",
    "    def push(self, items):\n",
    "        self.items.append(items) #将 items压栈\n",
    "    def pop(self): #弹栈操作\n",
    "        if not self.isEmpty(): #若栈非空，则返回栈顶元素\n",
    "            return self.items.pop()\n",
    "        else: #否则，提示 'Stack is empty!'\n",
    "            raise Exception('Stack is empty!')\n",
    "    def isEmpty(self): #判断栈是否为空\n",
    "        return self.items == []\n",
    "    def peek(self): #返回栈顶元素\n",
    "        return self.items[-1]\n",
    "    def size(self): #返回栈的大小\n",
    "        return len(self.items)\n",
    "    def get_items(self): #返回队列内元素的列表\n",
    "        return self.items\n",
    "\n",
    "# 字典{\"命题名\":\"命题值(1/-1)\"}\n",
    "values = {}\n",
    "instream = Stack()\n",
    "n = int(input())\n",
    "# 输入命题值与名\n",
    "for i in range(n):\n",
    "    varity = input().split()\n",
    "    values[varity[0]] = varity[1]  \n",
    "question = list(input())\n",
    "# 字典的所有键\n",
    "key = values.keys()\n",
    "# 判断命题值函数\n",
    "def check(string):\n",
    "    if string == '-1v-1':\n",
    "        return '-1'\n",
    "    elif string == '-1':\n",
    "        return '-1'\n",
    "    elif string == '--1':\n",
    "        return '1'\n",
    "    else:\n",
    "        return '1'\n",
    "# 一段括号内的question\n",
    "mingti = []\n",
    "# 将命题名替换为值\n",
    "for i in range(len(question)):\n",
    "    if question[i] in key:\n",
    "        question[i] = values[question[i]]    \n",
    "# 命题入栈\n",
    "while question == []:\n",
    "    ppop = question.pop(0)\n",
    "    if  ppop == ')':\n",
    "        #弹出至左括号,计算值\n",
    "        while True:\n",
    "            t = instream.pop()\n",
    "            if t != '(':\n",
    "                mingti.append(t)\n",
    "            else:\n",
    "                break\n",
    "        mingti.reverse()\n",
    "        string = ''.join(mingti)\n",
    "        instream.push(check(string))\n",
    "    else:\n",
    "        instream.push(ppop)\n",
    "\n",
    "while not instream.isEmpty:\n",
    "    t = instream.pop()\n",
    "    mingti.append(t)\n",
    "mingti.reverse()\n",
    "string = ''.join(mingti)\n",
    "print(check(string))"
   ]
  }
 ]
}