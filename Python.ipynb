{
 "metadata": {
  "language_info": {
   "codemirror_mode": {
    "name": "ipython",
    "version": 3
   },
   "file_extension": ".py",
   "mimetype": "text/x-python",
   "name": "python",
   "nbconvert_exporter": "python",
   "pygments_lexer": "ipython3",
   "version": "3.8.5-final"
  },
  "orig_nbformat": 2,
  "kernelspec": {
   "name": "python3",
   "display_name": "Python 3",
   "language": "python"
  }
 },
 "nbformat": 4,
 "nbformat_minor": 2,
 "cells": [
  {
   "source": [
    "这是Phmc的寒假大学计算机基础（Python）预习用Notebook\n"
   ],
   "cell_type": "markdown",
   "metadata": {}
  },
  {
   "source": [
    "待解决的问题：\n",
    "1.什么是位运算？\n",
    "2.List的操作有哪些？\n",
    "3.格式化的输入/输出应该如何做到？\n",
    "    例如：%d %s\n",
    "4.构建类\n",
    "5.文件及文件的操作"
   ],
   "cell_type": "markdown",
   "metadata": {}
  },
  {
   "source": [
    "#List的一些method\n",
    ".append('<追加对象>')   #在列表末尾追加对象\n",
    ".count('<某元素>')  #列表中某元素出现的次数\n",
    ".extend('<另一个序列>') #在列表末尾一次性追加另一个列表中的所有元素\n",
    ".index('<要匹配的值>')  #从列表中找到第一个匹配值的索引位置\n",
    ".insert('<索引>,<待插入对象>') #将对象插入索引位置\n",
    ".pop('<索引>')  #将最后一个元素拿出\n",
    ".remove('<要移除的元素>')   #将某个值的第一个匹配项拿出"
   ],
   "cell_type": "code",
   "metadata": {},
   "execution_count": null,
   "outputs": []
  },
  {
   "cell_type": "code",
   "execution_count": null,
   "metadata": {},
   "outputs": [],
   "source": [
    "#string的一些method\n",
    ".find('子字符串',<起始点>,<结束点>) #在长字符串中查找子字符串\n",
    "<'连接符'>.join(<字符串列表>)#用某个连接符将字符串中各元素链接，形成新字符串\n",
    "<字符串>.lower()#返回字符串的小写副本\n",
    "<字符串>.upper()#返回字符串的大写副本\n",
    "<字符串>.replace(old, new[, max])#返回字符串所有匹配项被替换的副本\n",
    "    #其中old指示的匹配项被替换为new，可选择最多替换max个\n",
    "<字符串>.split([sep[, maxsplit]])#利用分隔符将字符串分割成列表\n",
    "    #其中sep作为分隔符（如果不特别指定则以空格切分单词）；可使用maxsplit指定最大切分数\n",
    "<字符串>.strip([chars])#去除字符串两侧的指定字符\n",
    "<字符串>. translate (table[, deletechars])#返回字符串的副本，可以提花字符串中的某些部分，但只处理单个字符\n",
    "    #table是一张转换表，该表是一个字典，其元素是替换前后字符的ASCII码组成的键值对"
   ]
  },
  {
   "cell_type": "code",
   "execution_count": null,
   "metadata": {},
   "outputs": [],
   "source": [
    "#dict{}一种奇怪的List[]\n",
    "#以 key键 为索引查找 value值，其形式为 键:值 \n",
    "#a_dict={'sever':'buaa.edu.cn','database':'mysql'}\n",
    "'''字典的操作'''\n",
    "len(d)#返回d中元素的数量\n",
    "d.keys()#返回包含d中keys的列表\n",
    "d.values()#返回d中values的列表\n",
    "k in d#若k在d中，则返回 True\n",
    "d[k]#返回d中键为k的值\n",
    "d.get(k,v)#如果k在d中，返回d[k]，否则返回v\n",
    "d[k] = v#将值v与键k关联，即使已有与k关联的值\n",
    "del d[k]#从d中将键k移除\n",
    "for k in d#依据d中keys进行迭代"
   ]
  }
 ]
}