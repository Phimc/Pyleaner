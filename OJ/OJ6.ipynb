{
 "metadata": {
  "language_info": {
   "codemirror_mode": {
    "name": "ipython",
    "version": 3
   },
   "file_extension": ".py",
   "mimetype": "text/x-python",
   "name": "python",
   "nbconvert_exporter": "python",
   "pygments_lexer": "ipython3",
   "version": "3.8.5"
  },
  "orig_nbformat": 2,
  "kernelspec": {
   "name": "python385jvsc74a57bd0ecf8365e566e602351b8b76d9653f2fdf3ebe35a0fa3d8c01cb9ca31af7f5386",
   "display_name": "Python 3.8.5 32-bit"
  },
  "metadata": {
   "interpreter": {
    "hash": "ecf8365e566e602351b8b76d9653f2fdf3ebe35a0fa3d8c01cb9ca31af7f5386"
   }
  }
 },
 "nbformat": 4,
 "nbformat_minor": 2,
 "cells": [
  {
   "source": [
    "# 1\n"
   ],
   "cell_type": "markdown",
   "metadata": {}
  },
  {
   "cell_type": "code",
   "execution_count": null,
   "metadata": {},
   "outputs": [],
   "source": [
    "def f(n):\n",
    "    if n == 1:\n",
    "        return 0\n",
    "    elif n%2 :\n",
    "        return f(3*n+1)+0.0001\n",
    "    else:\n",
    "        return f(n/2)+1\n",
    "\n",
    "N = int(input())\n",
    "print('%.4f'%f(N))"
   ]
  },
  {
   "cell_type": "code",
   "execution_count": 1,
   "metadata": {},
   "outputs": [
    {
     "output_type": "stream",
     "name": "stdout",
     "text": [
      "['1', '2']\n"
     ]
    }
   ],
   "source": [
    "num_used_time = [0 for i in range(10)]\n",
    "n = int(input())\n",
    "for i in range(1,n+1):\n",
    "    for j in list(str(i)):\n",
    "        num_used_time[int(j)] += 1\n",
    "min_used_time = 10000\n",
    "min_used_num = None\n",
    "max_used_time = 0\n",
    "max_used_num = None\n",
    "for k in range(10):\n",
    "    if num_used_time[k] <= min_used_time:\n",
    "        min_used_time = num_used_time[k]\n",
    "        min_used_num = k\n",
    "    if num_used_time[k] >= max_used_time:\n",
    "        max_used_time = num_used_time[k]\n",
    "        max_used_num = k\n",
    "print(min_used_num,min_used_time)\n",
    "print(max_used_num,max_used_time)"
   ]
  },
  {
   "cell_type": "code",
   "execution_count": null,
   "metadata": {},
   "outputs": [],
   "source": [
    "M,N = map(int,input().split())\n",
    "flag = []\n",
    "for i in range(M):\n",
    "    flag.append(list(input()))\n",
    "W = [0 for i in range(M)]\n",
    "B = [0 for i in range(M)]\n",
    "R = [0 for i in range(M)]\n",
    "for i in range(M):\n",
    "    for j in range(N):\n",
    "        if flag[i][j] == 'W':\n",
    "            W[i] += 1\n",
    "        if flag[i][j] == 'B':\n",
    "            B[i] += 1\n",
    "        if flag[i][j] == 'R':\n",
    "            R[i] += 1\n",
    "unchanged = 0\n",
    "def total(W,B,R,x,y,z):\n",
    "    W_num = 0\n",
    "    B_num = 0\n",
    "    R_num = 0\n",
    "    for a in range(x+1):\n",
    "        W_num += W[a]\n",
    "    for b in range(x+1,y+1):\n",
    "        B_num += B[b]\n",
    "    for c in range(y+1,z+1):\n",
    "        R_num += R[c]\n",
    "    return (W_num + B_num + R_num)\n",
    "\n",
    "for i in range(M):\n",
    "    for j in range(i+1,M):\n",
    "        for k in range(j+1,M):\n",
    "            if  total(W,B,R,i,j,k)> unchanged:\n",
    "                unchanged = total(W,B,R,i,j,k)\n",
    "\n",
    "print(M*N - unchanged)"
   ]
  },
  {
   "cell_type": "code",
   "execution_count": 6,
   "metadata": {},
   "outputs": [
    {
     "output_type": "stream",
     "name": "stdout",
     "text": [
      "1\n"
     ]
    }
   ],
   "source": [
    "n = int(input())\n",
    "place = [0 for i in range(n+1)]\n",
    "def grow(i,j):\n",
    "    if (j-i+1) >= 3:\n",
    "        if (j-i+1) % 2:\n",
    "            mid = int((j+i)/2)\n",
    "        else:\n",
    "            mid = int((j+i+1)/2)\n",
    "        place[mid] = 1\n",
    "        grow(i,mid-1)\n",
    "        grow(mid+1,j)\n",
    "    else:\n",
    "        return 0\n",
    "grow(1,n)\n",
    "answer = []\n",
    "for j in range(n+1):\n",
    "    if place[j]:\n",
    "        answer.append(j)\n",
    "answer.sort()\n",
    "print(' '.join(list(map(str,answer))))"
   ]
  },
  {
   "cell_type": "code",
   "execution_count": null,
   "metadata": {},
   "outputs": [],
   "source": [
    "import itertools\n",
    "line = [0,1,2,3,4,5,6,7]\n",
    "row = [0,1,2,3,4,5,6,7]\n",
    "board = [[0 for i in range(8)] for j in range(8)]\n",
    "x0,y0 = map(int,input().split())\n",
    "row.pop(y0-1)\n",
    "line.pop(x0-1)\n",
    "ways = 0\n",
    "def chess(x,y):\n",
    "    if  board[x][y] == 0:\n",
    "        board[x][y] = 1\n",
    "        for i in range(min(8-x,8-y)):\n",
    "            board[x+i][y+i] = 1\n",
    "        for j in range(min(x+1,y+1)):\n",
    "            board[x-j][y-j] = 1\n",
    "        for k in range(min(8-x,y+1)):\n",
    "            board[x+k][y-k] = 1\n",
    "        for l in range(min(x+1,8-y)):\n",
    "            board[x-l][y+l] = 1\n",
    "        return True\n",
    "    else:\n",
    "        return False\n",
    "permus = list(itertools.permutations(row))\n",
    "\n",
    "for permu in permus:\n",
    "    chess(x0 -1 ,y0 - 1)\n",
    "    t = 0\n",
    "    for k in range(7):\n",
    "        if chess(line[k],permu[k]):\n",
    "            t += 1\n",
    "        else:\n",
    "            break\n",
    "    if t == 7:\n",
    "        ways += 1\n",
    "    board = [[0 for i in range(8)] for j in range(8)]\n",
    "print(ways)"
   ]
  }
 ]
}