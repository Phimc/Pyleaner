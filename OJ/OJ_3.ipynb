{
 "metadata": {
  "language_info": {
   "codemirror_mode": {
    "name": "ipython",
    "version": 3
   },
   "file_extension": ".py",
   "mimetype": "text/x-python",
   "name": "python",
   "nbconvert_exporter": "python",
   "pygments_lexer": "ipython3",
   "version": "3.8.5-final"
  },
  "orig_nbformat": 2,
  "kernelspec": {
   "name": "python385jvsc74a57bd0ecf8365e566e602351b8b76d9653f2fdf3ebe35a0fa3d8c01cb9ca31af7f5386",
   "display_name": "Python 3.8.5 32-bit"
  },
  "metadata": {
   "interpreter": {
    "hash": "ecf8365e566e602351b8b76d9653f2fdf3ebe35a0fa3d8c01cb9ca31af7f5386"
   }
  }
 },
 "nbformat": 4,
 "nbformat_minor": 2,
 "cells": [
  {
   "source": [
    "#第三次上机#\n"
   ],
   "cell_type": "markdown",
   "metadata": {}
  },
  {
   "cell_type": "code",
   "execution_count": null,
   "metadata": {},
   "outputs": [],
   "source": [
    "N = int(input())\n",
    "# 分数和学分\n",
    "score = []\n",
    "credit = []\n",
    "for i in range(N):\n",
    "    textin = list(map(float,input().split()))\n",
    "    score.append(textin[0])\n",
    "    credit.append(textin[1])\n",
    "#计算单科目GPA的函数\n",
    "def GPA(score):\n",
    "    if score < 60:\n",
    "        return 0\n",
    "    elif score == 60:\n",
    "        return 1\n",
    "    else:\n",
    "        return 4-(3*((100-score)**2))/1600\n",
    "for i in range(N):\n",
    "    score[i] = GPA(score[i])\n",
    "sumGPA = 0\n",
    "for i in range(N):\n",
    "    sumGPA += score[i]*credit[i]\n",
    "print('%.2f'%(sumGPA/sum(credit)))"
   ]
  },
  {
   "cell_type": "code",
   "execution_count": null,
   "metadata": {},
   "outputs": [],
   "source": [
    "#各等级所需经验\n",
    "def sum_exp(level):\n",
    "    return int(1.25*level**3-0.024*level**2+0.26*level-1)\n",
    "level_exp = []\n",
    "for i in range(1,21):\n",
    "    level_exp.append(sum_exp(i))\n",
    "y = int(input())\n",
    "#判断经验所在区间\n",
    "if y >= level_exp[19]:\n",
    "    print('Gyarados!')\n",
    "else:\n",
    "    for i in range(20):\n",
    "        if y>=level_exp[i] and y < level_exp[i+1]:\n",
    "            print(i+1)\n",
    "            break"
   ]
  },
  {
   "cell_type": "code",
   "execution_count": null,
   "metadata": {},
   "outputs": [],
   "source": [
    "n = list(input())\n",
    "step = 0\n",
    "n_str = list(map(str,n))\n",
    "N = int(''.join(n_str))\n",
    "# 进行操作\n",
    "while True:\n",
    "    step += 1\n",
    "    #减去两倍最后一位，加上前两位\n",
    "    N = -2*int(n_str.pop())+int(''.join(n_str))\n",
    "    if N < 100:\n",
    "        if N % 7 == 0:\n",
    "            print(N,step)\n",
    "            print('Yes')\n",
    "            break\n",
    "        else:\n",
    "            print(N,step)\n",
    "            print('No')\n",
    "            break\n",
    "    else:\n",
    "        n_str = list(str(N))"
   ]
  },
  {
   "cell_type": "code",
   "execution_count": null,
   "metadata": {},
   "outputs": [],
   "source": [
    "M,N,T = map(int,input().split())\n",
    "# 每个人拍手的状态（非0代表拍过）\n",
    "P = [0 for i in range(M)]\n",
    "shout = 1\n",
    "#轮次\n",
    "for i in range(T):\n",
    "    #人次\n",
    "    for q in range(M):\n",
    "        if shout % N == 0 or N in list(map(int,str(shout))):\n",
    "            P[q] += 1\n",
    "        shout += 1\n",
    "nc = []\n",
    "if 0 in P:\n",
    "    for i in range(M):\n",
    "        if P[i] == 0:\n",
    "            nc.append(str(i+1))\n",
    "    print(' '.join(nc))\n",
    "else:\n",
    "    print('NO')"
   ]
  },
  {
   "cell_type": "code",
   "execution_count": null,
   "metadata": {},
   "outputs": [],
   "source": [
    "n = int(input())\n",
    "S = (1+n**2)*n/2\n",
    "A = []\n",
    "line = []\n",
    "lie = []\n",
    "# 寻找和不为S的行\n",
    "for i in range(n):\n",
    "    A.append(list(map(int,input().split())))\n",
    "    if sum(A[i]) != S:\n",
    "        line.append(i)\n",
    "total = 0\n",
    "# 寻找和不为S的列\n",
    "for i in range(n):\n",
    "    for j in range(n):\n",
    "        total += A[j][i]\n",
    "    if total != S:\n",
    "        lie.append(i)\n",
    "    total = 0\n",
    "# 对角线处交换\n",
    "A[line[0]][lie[0]],A[line[1]][lie[1]] = A[line[1]][lie[1]],A[line[0]][lie[0]]\n",
    "# 如果交换后行和为S说明交换正确\n",
    "if sum(A[line[0]]) != S:\n",
    "    print(line[0]+1,lie[1]+1)\n",
    "    print(line[1]+1,lie[0]+1)\n",
    "else:\n",
    "    print(line[0]+1,lie[0]+1)\n",
    "    print(line[1]+1,lie[1]+1)\n",
    "    "
   ]
  },
  {
   "cell_type": "code",
   "execution_count": null,
   "metadata": {},
   "outputs": [],
   "source": [
    "N,M = map(int,input().split())\n",
    "fire = list(map(int,input().split()))\n",
    "# 排序\n",
    "fire.sort()\n",
    "# 用来记录火燃过相邻点之间的时间\n",
    "minute = []\n",
    "def time(p,q):\n",
    "    if (p-q)%2 == 0:\n",
    "        return (p-q)/2\n",
    "    else:\n",
    "        return (p-q-1)/2\n",
    "\n",
    "for i in range(1,len(fire)):\n",
    "    minute.append(time(fire[i],fire[i-1]))\n",
    "# 火势到达两端楼房的时间\n",
    "minute.append(fire[0]-1)\n",
    "minute.append(N-fire[-1])\n",
    "mins = 0\n",
    "for mini in minute:\n",
    "    if mini>mins:\n",
    "        mins = mini\n",
    "print(int(mins+1))"
   ]
  }
 ]
}